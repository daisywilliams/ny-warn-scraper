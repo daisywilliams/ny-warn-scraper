{
 "cells": [
  {
   "cell_type": "code",
   "execution_count": 302,
   "metadata": {},
   "outputs": [],
   "source": [
    "# import pandas\n",
    "import pandas as pd"
   ]
  },
  {
   "cell_type": "code",
   "execution_count": 303,
   "metadata": {},
   "outputs": [],
   "source": [
    "# read csv in for each year \n",
    "warn2020= pd.read_csv('../data/warn.csv')\n",
    "warn2019= pd.read_csv('../data/2019.csv')\n",
    "warn2018= pd.read_csv('../data/2018.csv')\n",
    "warn2017= pd.read_csv('../data/2017.csv')\n",
    "warn2016= pd.read_csv('../data/2016.csv')\n",
    "warn2015= pd.read_csv('../data/2015.csv')\n"
   ]
  },
  {
   "cell_type": "code",
   "execution_count": 304,
   "metadata": {},
   "outputs": [],
   "source": [
    "# find category I want (dislocation) for each year. Named it dYEAR for dislocation + which year \n",
    "d2020 = warn2020['dislocation']\n",
    "d2019 = warn2019['dislocation']\n",
    "d2018 = warn2018['dislocation']\n",
    "d2017 = warn2017['dislocation']\n",
    "d2016 = warn2016['dislocation']\n",
    "d2015 = warn2015['dislocation']\n",
    "\n",
    "\n",
    "\n"
   ]
  },
  {
   "cell_type": "code",
   "execution_count": 245,
   "metadata": {},
   "outputs": [
    {
     "data": {
      "text/plain": [
       "10"
      ]
     },
     "execution_count": 245,
     "metadata": {},
     "output_type": "execute_result"
    }
   ],
   "source": [
    "#clean up 2020 data\n",
    "#each piece of text in the (' ') changed to match various wording from original doc\n",
    "warn2020.loc[warn2020['dislocation'].str.contains('COVID-19'), 'dislocation'] = 'COVID-19'\n",
    "warn2020.loc[warn2020['dislocation'].str.contains('Relocating'), 'dislocation'] = 'Relocation'\n",
    "warn2020.loc[warn2020['dislocation'].str.contains('acquisition'), 'dislocation'] = 'Acquisition'\n",
    "warn2020.loc[warn2020['dislocation'].str.contains('lease'), 'dislocation'] = 'End of Lease'\n",
    "warn2020.loc[warn2020['dislocation'].str.contains('sale of'), 'dislocation'] = 'Sale of Business'\n",
    "warn2020.loc[warn2020['dislocation'].str.contains ('contract'), 'dislocation'] = 'Loss of Contract'\n",
    "warn2020.loc[warn2020['dislocation'].str.contains ('Reorgan'), 'dislocation'] = 'Restructuring'\n",
    "warn2020.loc[warn2020['dislocation'].str.contains ('operational'), 'dislocation'] = 'Operations'\n",
    "warn2020.loc[warn2020['dislocation'].str.contains ('funding'), 'dislocation'] = 'Economic'\n",
    "warn2020.loc[warn2020['dislocation'].str.contains ('To be'), 'dislocation'] = 'Other'\n",
    "\n",
    "#check the data for key words, I used .count to get an idea of how much was left to do\n",
    "d2020.value_counts()#.count()\n"
   ]
  },
  {
   "cell_type": "code",
   "execution_count": 248,
   "metadata": {},
   "outputs": [],
   "source": [
    "#save to csv\n",
    "2020.to_csv('../data/2020fix.csv', index=False)"
   ]
  },
  {
   "cell_type": "code",
   "execution_count": 335,
   "metadata": {},
   "outputs": [
    {
     "data": {
      "text/plain": [
       "Economic             203\n",
       "Contract Loss/End     43\n",
       "Relocation            28\n",
       "Operations            18\n",
       "Merger                13\n",
       "End of Lease          11\n",
       "Acquistion/Sale        8\n",
       "Restructuring          7\n",
       "Other                  7\n",
       "Construction           5\n",
       "Transfer               3\n",
       "Name: dislocation, dtype: int64"
      ]
     },
     "execution_count": 335,
     "metadata": {},
     "output_type": "execute_result"
    }
   ],
   "source": [
    "#clean up 2020 data\n",
    "#each piece of text in the (' ') changed to match wording from original doc\n",
    "warn2019.loc[warn2019['dislocation'].str.contains('NC'), 'dislocation'] = 'Relocation'\n",
    "warn2019.loc[warn2019['dislocation'].str.contains('Inc.'), 'dislocation'] = 'Acquistion/Sale'\n",
    "warn2019.loc[warn2019['dislocation'].str.contains('Mergering'), 'dislocation'] = 'Merger'\n",
    "warn2019.loc[warn2019['dislocation'].str.contains('Lease'), 'dislocation'] = 'End of Lease'\n",
    "warn2019.loc[warn2019['dislocation'].str.contains('Renovations'), 'dislocation'] = 'Construction'\n",
    "warn2019.loc[warn2019['dislocation'].str.contains('Funding'), 'dislocation'] = 'Economic'\n",
    "warn2019.loc[warn2019['dislocation'].str.contains('Restructure'), 'dislocation'] = 'Restructuring'\n",
    "warn2019.loc[warn2019['dislocation'].str.contains('Transferring'), 'dislocation'] = 'Transfer'\n",
    "warn2019.loc[warn2019['dislocation'].str.contains('Contract'), 'dislocation'] = 'Contract Loss/End'\n",
    "warn2019.loc[warn2019['dislocation'].str.contains('Change'), 'dislocation'] = 'Operations'\n",
    "warn2019.loc[warn2019['dislocation'].str.contains('Plan'), 'dislocation'] = 'Other'\n",
    "\n",
    "#check the data for key words, I used .count to get an idea of how much was left to do\n",
    "d2019.value_counts()#.count()\n"
   ]
  },
  {
   "cell_type": "code",
   "execution_count": 338,
   "metadata": {},
   "outputs": [],
   "source": [
    "#export clean data to csv\n",
    "warn2019.to_csv('../data/2019fix.csv', index=False)\n"
   ]
  },
  {
   "cell_type": "code",
   "execution_count": 376,
   "metadata": {},
   "outputs": [
    {
     "data": {
      "text/plain": [
       "Economic                                   252\n",
       "Contract Loss/End                           40\n",
       "Acquisition/Sale                            40\n",
       "Relocation                                  36\n",
       "Restructuring                               28\n",
       "Decline in Business with Major Customer     10\n",
       "End of Lease                                 7\n",
       "Operations                                   5\n",
       "Merger                                       4\n",
       "Construction                                 4\n",
       "Other                                        4\n",
       "Weather related                              3\n",
       "Name: dislocation, dtype: int64"
      ]
     },
     "execution_count": 376,
     "metadata": {},
     "output_type": "execute_result"
    }
   ],
   "source": [
    "#clean up 2018 data\n",
    "#each piece of text in the (' ') changed to match various wording from original doc\n",
    "warn2018.loc[warn2018['dislocation'].str.contains('San'), 'dislocation'] = 'Relocation'\n",
    "warn2018.loc[warn2018['dislocation'].str.contains('CA Tec'), 'dislocation'] = 'Acquisition/Sale'\n",
    "warn2018.loc[warn2018['dislocation'].str.contains('merger'), 'dislocation'] = 'Merger'\n",
    "warn2018.loc[warn2018['dislocation'].str.contains('lease'), 'dislocation'] = 'End of Lease'\n",
    "warn2018.loc[warn2018['dislocation'].str.contains('Renovation'), 'dislocation'] = 'Construction'\n",
    "warn2018.loc[warn2018['dislocation'].str.contains('economic'), 'dislocation'] = 'Economic'\n",
    "warn2018.loc[warn2018['dislocation'].str.contains('Third'), 'dislocation'] = 'Restructuring'\n",
    "warn2018.loc[warn2018['dislocation'].str.contains('transferring'), 'dislocation'] = 'Transfer'\n",
    "warn2018.loc[warn2018['dislocation'].str.contains('contract'), 'dislocation'] = 'Contract Loss/End'\n",
    "warn2018.loc[warn2018['dislocation'].str.contains('bankruptcy'), 'dislocation'] = 'Bankruptcy'\n",
    "warn2018.loc[warn2018['dislocation'].str.contains('operations'), 'dislocation'] = 'Operations'\n",
    "warn2018.loc[warn2018['dislocation'].str.contains('decline in '), 'dislocation'] = 'Decline in Business with Major Customer'\n",
    "warn2018.loc[warn2018['dislocation'].str.contains('sector'), 'dislocation'] = 'Other'\n",
    "\n",
    "#check the data for key words, I used .count to get an idea of how much was left to do\n",
    "d2018.value_counts()#.count()"
   ]
  },
  {
   "cell_type": "code",
   "execution_count": 379,
   "metadata": {},
   "outputs": [],
   "source": [
    "#export clean data to csv\n",
    "\n",
    "#check the data for key words, I used .count to get an idea of how much was left to do\n",
    "warn2018.to_csv('../data/2018fix.csv', index=False)"
   ]
  },
  {
   "cell_type": "code",
   "execution_count": 422,
   "metadata": {},
   "outputs": [
    {
     "data": {
      "text/plain": [
       "Economic             207\n",
       "Contract Loss/End     40\n",
       "Acquisition/Sale      19\n",
       "Relocation            17\n",
       "Operations            14\n",
       "Construction           7\n",
       "End of Lease           7\n",
       "Other                  5\n",
       "Transfer               4\n",
       "Restructuring          1\n",
       "Name: dislocation, dtype: int64"
      ]
     },
     "execution_count": 422,
     "metadata": {},
     "output_type": "execute_result"
    }
   ],
   "source": [
    "#clean up 2017 data \n",
    "#each piece of text in the (' ') changed to match various wording from original doc\n",
    "warn2017.loc[warn2017['dislocation'].str.contains('Utica'), 'dislocation'] = 'Relocation'\n",
    "warn2017.loc[warn2017['dislocation'].str.contains('STC'), 'dislocation'] = 'Acquisition/Sale'\n",
    "warn2017.loc[warn2017['dislocation'].str.contains('merge'), 'dislocation'] = 'Merger'\n",
    "warn2017.loc[warn2017['dislocation'].str.contains('lease'), 'dislocation'] = 'End of Lease'\n",
    "warn2017.loc[warn2017['dislocation'].str.contains('renovations'), 'dislocation'] = 'Construction'\n",
    "warn2017.loc[warn2017['dislocation'].str.contains('loan'), 'dislocation'] = 'Economic'\n",
    "warn2017.loc[warn2017['dislocation'].str.contains('outsource'), 'dislocation'] = 'Restructuring'\n",
    "warn2017.loc[warn2017['dislocation'].str.contains('Capital One'), 'dislocation'] = 'Transfer'\n",
    "warn2017.loc[warn2017['dislocation'].str.contains('contract'), 'dislocation'] = 'Contract Loss/End'\n",
    "warn2017.loc[warn2017['dislocation'].str.contains('Changes'), 'dislocation'] = 'Operations'\n",
    "warn2017.loc[warn2017['dislocation'].str.contains('other'), 'dislocation'] = 'Other'\n",
    "\n",
    "#check the data for key words, I used .count to get an idea of how much was left to do\n",
    "d2017.value_counts()#.count()"
   ]
  },
  {
   "cell_type": "code",
   "execution_count": 424,
   "metadata": {},
   "outputs": [],
   "source": [
    "#export clean data to csv\n",
    "warn2017.to_csv('../data/2017fix.csv', index=False)"
   ]
  },
  {
   "cell_type": "code",
   "execution_count": 475,
   "metadata": {},
   "outputs": [
    {
     "data": {
      "text/plain": [
       "11"
      ]
     },
     "execution_count": 475,
     "metadata": {},
     "output_type": "execute_result"
    }
   ],
   "source": [
    "#clean up 2016 data \n",
    "#each piece of text in the (' ') changed to match various wording from original doc\n",
    "warn2016.loc[warn2016['dislocation'].str.contains('LISH'), 'dislocation'] = 'Relocation'\n",
    "warn2016.loc[warn2016['dislocation'].str.contains('11'), 'dislocation'] = 'Acquisition/Sale'\n",
    "warn2016.loc[warn2016['dislocation'].str.contains('merging'), 'dislocation'] = 'Merger'\n",
    "warn2016.loc[warn2016['dislocation'].str.contains('lease'), 'dislocation'] = 'End of Lease'\n",
    "warn2016.loc[warn2016['dislocation'].str.contains('smaller'), 'dislocation'] = 'Construction'\n",
    "warn2016.loc[warn2016['dislocation'].str.contains('Ecomonic'), 'dislocation'] = 'Economic'\n",
    "warn2016.loc[warn2016['dislocation'].str.contains('Consol'), 'dislocation'] = 'Restructuring'\n",
    "warn2016.loc[warn2016['dislocation'].str.contains('transfer'), 'dislocation'] = 'Transfer'\n",
    "warn2016.loc[warn2016['dislocation'].str.contains('contract'), 'dislocation'] = 'Contract Loss/End'\n",
    "warn2016.loc[warn2016['dislocation'].str.contains('Outsource'), 'dislocation'] = 'Operations'\n",
    "warn2016.loc[warn2016['dislocation'].str.contains('Initati'), 'dislocation'] = 'Other'\n",
    "\n",
    "#check the data for key words, I used .count to get an idea of how much was left to do\n",
    "d2016.value_counts().count()"
   ]
  },
  {
   "cell_type": "code",
   "execution_count": 477,
   "metadata": {},
   "outputs": [],
   "source": [
    "#export clean data to csv\n",
    "warn2016.to_csv('../data/2016fix.csv', index=False)"
   ]
  },
  {
   "cell_type": "code",
   "execution_count": 533,
   "metadata": {},
   "outputs": [
    {
     "data": {
      "text/plain": [
       "Economic             238\n",
       "Contract Loss/End     48\n",
       "Acquisition/Sale      37\n",
       "Relocation            33\n",
       "Operations            28\n",
       "Restructuring         17\n",
       "Merger                 9\n",
       "Transfer               9\n",
       "Construction           6\n",
       "Other                  6\n",
       "End of Lease           3\n",
       "Name: dislocation, dtype: int64"
      ]
     },
     "execution_count": 533,
     "metadata": {},
     "output_type": "execute_result"
    }
   ],
   "source": [
    "#clean up 2015 data\n",
    "#each piece of text in the (' ') changed to match various wording from original doc\n",
    "warn2015.loc[warn2015['dislocation'].str.contains('NY'), 'dislocation'] = 'Relocation'\n",
    "warn2015.loc[warn2015['dislocation'].str.contains('Cessation'), 'dislocation'] = 'Acquisition/Sale'\n",
    "warn2015.loc[warn2015['dislocation'].str.contains('Integration'), 'dislocation'] = 'Merger'\n",
    "warn2015.loc[warn2015['dislocation'].str.contains('Lease'), 'dislocation'] = 'End of Lease'\n",
    "warn2015.loc[warn2015['dislocation'].str.contains('Refurbishing'), 'dislocation'] = 'Construction'\n",
    "warn2015.loc[warn2015['dislocation'].str.contains('funding'), 'dislocation'] = 'Economic'\n",
    "warn2015.loc[warn2015['dislocation'].str.contains('Consoldi'), 'dislocation'] = 'Restructuring'\n",
    "warn2015.loc[warn2015['dislocation'].str.contains('transferring'), 'dislocation'] = 'Transfer'\n",
    "warn2015.loc[warn2015['dislocation'].str.contains('contract'), 'dislocation'] = 'Contract Loss/End'\n",
    "warn2015.loc[warn2015['dislocation'].str.contains('Transition'), 'dislocation'] = 'Operations'\n",
    "warn2015.loc[warn2015['dislocation'].str.contains('Sponsorsh'), 'dislocation'] = 'Other'\n",
    "\n",
    "#check the data for key words, I used .count to get an idea of how much was left to do\n",
    "d2015.value_counts()#.count()"
   ]
  },
  {
   "cell_type": "code",
   "execution_count": 535,
   "metadata": {},
   "outputs": [],
   "source": [
    "#export clean data to csv\n",
    "warn2015.to_csv('../data/2015fix.csv', index=False)"
   ]
  }
 ],
 "metadata": {
  "kernelspec": {
   "display_name": "Python 3",
   "language": "python",
   "name": "python3"
  },
  "language_info": {
   "codemirror_mode": {
    "name": "ipython",
    "version": 3
   },
   "file_extension": ".py",
   "mimetype": "text/x-python",
   "name": "python",
   "nbconvert_exporter": "python",
   "pygments_lexer": "ipython3",
   "version": "3.7.7"
  }
 },
 "nbformat": 4,
 "nbformat_minor": 4
}
