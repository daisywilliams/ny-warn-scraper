{
 "cells": [
  {
   "cell_type": "code",
   "execution_count": 3,
   "metadata": {},
   "outputs": [],
   "source": [
    "import pandas as pd\n",
    "import requests\n",
    "from bs4 import BeautifulSoup"
   ]
  },
  {
   "cell_type": "code",
   "execution_count": 4,
   "metadata": {},
   "outputs": [
    {
     "data": {
      "text/plain": [
       "'https://labor.ny.gov/app/warn/default.asp?warnYr=2015'"
      ]
     },
     "execution_count": 4,
     "metadata": {},
     "output_type": "execute_result"
    }
   ],
   "source": [
    "url = \"https://labor.ny.gov/app/warn/default.asp?warnYr=2015\"\n",
    "url"
   ]
  },
  {
   "cell_type": "code",
   "execution_count": 5,
   "metadata": {},
   "outputs": [
    {
     "data": {
      "text/plain": [
       "{'accept-encoding': 'deflate'}"
      ]
     },
     "execution_count": 5,
     "metadata": {},
     "output_type": "execute_result"
    }
   ],
   "source": [
    "headers = {'accept-encoding': 'deflate'}\n",
    "headers"
   ]
  },
  {
   "cell_type": "code",
   "execution_count": 6,
   "metadata": {},
   "outputs": [
    {
     "data": {
      "text/plain": [
       "<Response [200]>"
      ]
     },
     "execution_count": 6,
     "metadata": {},
     "output_type": "execute_result"
    }
   ],
   "source": [
    "response = requests.get(url, headers=headers)\n",
    "response"
   ]
  },
  {
   "cell_type": "code",
   "execution_count": 7,
   "metadata": {},
   "outputs": [
    {
     "data": {
      "text/plain": [
       "200"
      ]
     },
     "execution_count": 7,
     "metadata": {},
     "output_type": "execute_result"
    }
   ],
   "source": [
    "response.status_code"
   ]
  },
  {
   "cell_type": "code",
   "execution_count": 8,
   "metadata": {},
   "outputs": [
    {
     "data": {
      "text/plain": [
       "str"
      ]
     },
     "execution_count": 8,
     "metadata": {},
     "output_type": "execute_result"
    }
   ],
   "source": [
    "type(response.text)"
   ]
  },
  {
   "cell_type": "code",
   "execution_count": 9,
   "metadata": {},
   "outputs": [],
   "source": [
    "soup = BeautifulSoup (response.text, 'html.parser')"
   ]
  },
  {
   "cell_type": "code",
   "execution_count": 19,
   "metadata": {},
   "outputs": [],
   "source": [
    "table = soup.find(\"table\")"
   ]
  },
  {
   "cell_type": "code",
   "execution_count": 20,
   "metadata": {},
   "outputs": [],
   "source": [
    "rows =soup.find_all(\"tr\")"
   ]
  },
  {
   "cell_type": "code",
   "execution_count": 21,
   "metadata": {},
   "outputs": [
    {
     "data": {
      "text/plain": [
       "434"
      ]
     },
     "execution_count": 21,
     "metadata": {},
     "output_type": "execute_result"
    }
   ],
   "source": [
    "len(rows)"
   ]
  },
  {
   "cell_type": "code",
   "execution_count": 31,
   "metadata": {},
   "outputs": [],
   "source": [
    "# indicate the url start of the individual case URLs as they aren't the same as the launching page\n",
    "newurl = \"https://labor.ny.gov/app/warn/\""
   ]
  },
  {
   "cell_type": "code",
   "execution_count": 42,
   "metadata": {},
   "outputs": [
    {
     "name": "stdout",
     "output_type": "stream",
     "text": [
      "Date of Notice: 12/11/2015\n",
      "Control Number: 2015-0178\n",
      "Rapid Response Specialist: Karen Marsh\n",
      "Reason Stated for Filing:  Plant Layoff\n",
      "Company:\n",
      " Eastman Kodak Company (Kodak  Office)\n",
      " 343 State Street\n",
      " Rochester, NY  14650\n",
      "County:  Monroe | WIB Name: MONROE  | Region: Finger Lakes Region\n",
      "Contact:  Kim M. Chesher-Nguyen, Supervisor, Benefits  Manager\n",
      "Phone: (585) 781-1758\n",
      "Business Type: Photographic equipment and Supplies\n",
      "Number Affected:  1\n",
      "Total Employees:  -----\n",
      "Layoff Date: 3/9/2016\n",
      "Closing Date:  -----\n",
      "Reason for Dislocation: Economic\n",
      "ERNUM: 39-40093\n",
      "Union: The affected  worker is not represented by a union.\n",
      "Classification: Plant Layoff\n"
     ]
    }
   ],
   "source": [
    "results = []\n",
    "for row in rows:\n",
    "    #print(row)\n",
    "    a = row.find(\"a\")['href']\n",
    "    #print(a)\n",
    "    company_url = f'{newurl}{a}'\n",
    "    #print(company_url)\n",
    "    company_response = requests.get(company_url, headers=headers)\n",
    "   # print (company_response.status_code)\n",
    "    company_soup = BeautifulSoup(company_response.text, 'html.parser') \n",
    "   # print(company_soup)\n",
    "    company_table = company_soup.find(\"table\")\n",
    "   #print(company_table)\n",
    "    paragraphs = company_table.find_all(\"p\")\n",
    "    for p in paragraphs: \n",
    "        text=p.get_text('\\n')\n",
    "        print(text)\n",
    "    break\n",
    "\n"
   ]
  },
  {
   "cell_type": "code",
   "execution_count": null,
   "metadata": {},
   "outputs": [],
   "source": []
  }
 ],
 "metadata": {
  "kernelspec": {
   "display_name": "Python 3",
   "language": "python",
   "name": "python3"
  },
  "language_info": {
   "codemirror_mode": {
    "name": "ipython",
    "version": 3
   },
   "file_extension": ".py",
   "mimetype": "text/x-python",
   "name": "python",
   "nbconvert_exporter": "python",
   "pygments_lexer": "ipython3",
   "version": "3.7.7"
  }
 },
 "nbformat": 4,
 "nbformat_minor": 4
}
