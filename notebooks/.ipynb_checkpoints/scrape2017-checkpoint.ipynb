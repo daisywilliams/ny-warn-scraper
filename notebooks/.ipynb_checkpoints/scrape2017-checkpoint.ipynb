{
 "cells": [
  {
   "cell_type": "code",
   "execution_count": 3,
   "metadata": {},
   "outputs": [],
   "source": [
    "import pandas as pd\n",
    "import requests\n",
    "from bs4 import BeautifulSoup"
   ]
  },
  {
   "cell_type": "code",
   "execution_count": 4,
   "metadata": {},
   "outputs": [
    {
     "data": {
      "text/plain": [
       "'https://labor.ny.gov/app/warn/default.asp?warnYr=2017'"
      ]
     },
     "execution_count": 4,
     "metadata": {},
     "output_type": "execute_result"
    }
   ],
   "source": [
    "url = \"https://labor.ny.gov/app/warn/default.asp?warnYr=2017\"\n",
    "url"
   ]
  },
  {
   "cell_type": "code",
   "execution_count": 5,
   "metadata": {},
   "outputs": [
    {
     "data": {
      "text/plain": [
       "{'accept-encoding': 'deflate'}"
      ]
     },
     "execution_count": 5,
     "metadata": {},
     "output_type": "execute_result"
    }
   ],
   "source": [
    "headers = {'accept-encoding': 'deflate'}\n",
    "headers"
   ]
  },
  {
   "cell_type": "code",
   "execution_count": 6,
   "metadata": {},
   "outputs": [
    {
     "data": {
      "text/plain": [
       "<Response [200]>"
      ]
     },
     "execution_count": 6,
     "metadata": {},
     "output_type": "execute_result"
    }
   ],
   "source": [
    "response = requests.get(url, headers=headers)\n",
    "response"
   ]
  },
  {
   "cell_type": "code",
   "execution_count": 7,
   "metadata": {},
   "outputs": [
    {
     "data": {
      "text/plain": [
       "200"
      ]
     },
     "execution_count": 7,
     "metadata": {},
     "output_type": "execute_result"
    }
   ],
   "source": [
    "response.status_code"
   ]
  },
  {
   "cell_type": "code",
   "execution_count": 8,
   "metadata": {},
   "outputs": [
    {
     "data": {
      "text/plain": [
       "str"
      ]
     },
     "execution_count": 8,
     "metadata": {},
     "output_type": "execute_result"
    }
   ],
   "source": [
    "type(response.text)"
   ]
  },
  {
   "cell_type": "code",
   "execution_count": 9,
   "metadata": {},
   "outputs": [],
   "source": [
    "soup = BeautifulSoup (response.text, 'html.parser')"
   ]
  },
  {
   "cell_type": "code",
   "execution_count": 30,
   "metadata": {},
   "outputs": [],
   "source": [
    "table = soup.find(\"table\")"
   ]
  },
  {
   "cell_type": "code",
   "execution_count": 31,
   "metadata": {},
   "outputs": [],
   "source": [
    "rows =soup.find_all(\"tr\")"
   ]
  },
  {
   "cell_type": "code",
   "execution_count": 32,
   "metadata": {},
   "outputs": [
    {
     "data": {
      "text/plain": [
       "321"
      ]
     },
     "execution_count": 32,
     "metadata": {},
     "output_type": "execute_result"
    }
   ],
   "source": [
    "len(rows)"
   ]
  },
  {
   "cell_type": "code",
   "execution_count": 41,
   "metadata": {},
   "outputs": [],
   "source": [
    "# indicate the url start of the individual case URLs as they aren't the same as the launching page\n",
    "newurl = \"https://labor.ny.gov/app/warn/\""
   ]
  },
  {
   "cell_type": "code",
   "execution_count": 52,
   "metadata": {},
   "outputs": [
    {
     "name": "stdout",
     "output_type": "stream",
     "text": [
      "Date of Notice: 12/21/2017\n",
      "Event Number: 2017-0178\n",
      "Rapid Response Specialist: Regenna Darrah\n",
      "Reason Stated for Filing: Plant Layoff\n",
      "Company: \n",
      "Eastman Kodak Company (Eastman Business Park)\n",
      "1669 Lake Avenue\n",
      "Rochester, NY 14650\n",
      "County: Monroe | WDB Name: MONROE | Region: Finger Lakes\n",
      "Contact: Pamela J. Fantauzzo, HR Specialist\n",
      "Phone: (585) 724-7080\n",
      "Business Type: Photographic equipment and supplies\n",
      "Number Affected: 2\n",
      "Total Employees: -----\n",
      "Layoff Date: 3/20/2018\n",
      "Closing Date: -----\n",
      "Reason for Dislocation: Economic\n",
      "FEIN NUM: 16-0417150\n",
      "Union: The affected workers are not represented by a union.\n",
      "Classification: Plant Layoff\n"
     ]
    }
   ],
   "source": [
    "results = []\n",
    "for row in rows:\n",
    "    #print(row)\n",
    "    a = row.find(\"a\")['href']\n",
    "    #print(a)\n",
    "    company_url = f'{newurl}{a}'\n",
    "    #print(company_url)\n",
    "    company_response = requests.get(company_url, headers=headers)\n",
    "   # print (company_response.status_code)\n",
    "    company_soup = BeautifulSoup(company_response.text, 'html.parser') \n",
    "   # print(company_soup)\n",
    "    company_table = company_soup.find(\"table\")\n",
    "    # print(company_table)\n",
    "    paragraphs = company_table.find_all(\"p\")\n",
    "    for p in paragraphs: \n",
    "        text=p.get_text('\\n')\n",
    "        print(text)\n",
    "    break"
   ]
  },
  {
   "cell_type": "code",
   "execution_count": null,
   "metadata": {},
   "outputs": [],
   "source": []
  }
 ],
 "metadata": {
  "kernelspec": {
   "display_name": "Python 3",
   "language": "python",
   "name": "python3"
  },
  "language_info": {
   "codemirror_mode": {
    "name": "ipython",
    "version": 3
   },
   "file_extension": ".py",
   "mimetype": "text/x-python",
   "name": "python",
   "nbconvert_exporter": "python",
   "pygments_lexer": "ipython3",
   "version": "3.7.7"
  }
 },
 "nbformat": 4,
 "nbformat_minor": 4
}
