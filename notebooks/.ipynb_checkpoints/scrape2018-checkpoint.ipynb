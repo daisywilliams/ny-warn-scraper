{
 "cells": [
  {
   "cell_type": "code",
   "execution_count": 3,
   "metadata": {},
   "outputs": [],
   "source": [
    "import pandas as pd\n",
    "import requests\n",
    "from bs4 import BeautifulSoup"
   ]
  },
  {
   "cell_type": "code",
   "execution_count": 14,
   "metadata": {},
   "outputs": [
    {
     "data": {
      "text/plain": [
       "'https://labor.ny.gov/app/warn/default.asp?warnYr=2018'"
      ]
     },
     "execution_count": 14,
     "metadata": {},
     "output_type": "execute_result"
    }
   ],
   "source": [
    "url = \"https://labor.ny.gov/app/warn/default.asp?warnYr=2018\"\n",
    "url"
   ]
  },
  {
   "cell_type": "code",
   "execution_count": 15,
   "metadata": {},
   "outputs": [
    {
     "data": {
      "text/plain": [
       "{'accept-encoding': 'deflate'}"
      ]
     },
     "execution_count": 15,
     "metadata": {},
     "output_type": "execute_result"
    }
   ],
   "source": [
    "headers = {'accept-encoding': 'deflate'}\n",
    "headers"
   ]
  },
  {
   "cell_type": "code",
   "execution_count": 16,
   "metadata": {},
   "outputs": [
    {
     "data": {
      "text/plain": [
       "<Response [200]>"
      ]
     },
     "execution_count": 16,
     "metadata": {},
     "output_type": "execute_result"
    }
   ],
   "source": [
    "response = requests.get(url, headers=headers)\n",
    "response"
   ]
  },
  {
   "cell_type": "code",
   "execution_count": 17,
   "metadata": {},
   "outputs": [
    {
     "data": {
      "text/plain": [
       "200"
      ]
     },
     "execution_count": 17,
     "metadata": {},
     "output_type": "execute_result"
    }
   ],
   "source": [
    "response.status_code"
   ]
  },
  {
   "cell_type": "code",
   "execution_count": 18,
   "metadata": {},
   "outputs": [
    {
     "data": {
      "text/plain": [
       "str"
      ]
     },
     "execution_count": 18,
     "metadata": {},
     "output_type": "execute_result"
    }
   ],
   "source": [
    "type(response.text)"
   ]
  },
  {
   "cell_type": "code",
   "execution_count": 47,
   "metadata": {},
   "outputs": [],
   "source": [
    "soup = BeautifulSoup (response.text, 'html.parser')\n"
   ]
  },
  {
   "cell_type": "code",
   "execution_count": 49,
   "metadata": {},
   "outputs": [],
   "source": [
    "table = soup.find(\"table\")"
   ]
  },
  {
   "cell_type": "code",
   "execution_count": 51,
   "metadata": {},
   "outputs": [],
   "source": [
    "rows =soup.find_all(\"tr\")\n"
   ]
  },
  {
   "cell_type": "code",
   "execution_count": 37,
   "metadata": {},
   "outputs": [
    {
     "data": {
      "text/plain": [
       "433"
      ]
     },
     "execution_count": 37,
     "metadata": {},
     "output_type": "execute_result"
    }
   ],
   "source": [
    "len(rows)"
   ]
  },
  {
   "cell_type": "code",
   "execution_count": 56,
   "metadata": {},
   "outputs": [],
   "source": [
    "# indicate the url start of the individual case URLs as they aren't the same as the launching page\n",
    "newurl = \"https://labor.ny.gov/app/warn/\""
   ]
  },
  {
   "cell_type": "code",
   "execution_count": 66,
   "metadata": {},
   "outputs": [
    {
     "name": "stdout",
     "output_type": "stream",
     "text": [
      "Date of Notice: 12/26/2018\n",
      "Event Number: 2018-0209\n",
      "Rapid Response Specialist: Stuart Goldberg\n",
      "Reason Stated for Filing: Plant Closing\n",
      "Company: \n",
      "Jersey Lynne Farms, Inc. \n",
      "8801 Foster Avenue \n",
      "Brooklyn, NY 11236\n",
      "County: Kings | WDB Name: NEW YORK CITY | Region: New York City\n",
      "Contact: Michael Loconte, President\n",
      "Phone: (718) 649-6730 Ext: 123\n",
      "Business Type: Wholesale Food Distributor\n",
      "Number Affected: 56\n",
      "Total Employees: 56\n",
      "Layoff Date: 3/30/2019\n",
      "Closing Date: 3/30/2019\n",
      "Reason for Dislocation: Economic\n",
      "FEIN NUM: 11-2205343\n",
      "Union: The employees are not represented by a union.\n",
      "Classification: Plant Closing\n"
     ]
    }
   ],
   "source": [
    "results = []\n",
    "for row in rows:\n",
    "    #print(row)\n",
    "    a = row.find(\"a\")['href']\n",
    "    #print(a)\n",
    "    company_url = f'{newurl}{a}'\n",
    "    #print(company_url)\n",
    "    company_response = requests.get(company_url, headers=headers)\n",
    "   # print (company_response.status_code)\n",
    "    company_soup = BeautifulSoup(company_response.text, 'html.parser') \n",
    "   # print(company_soup)\n",
    "    company_table = company_soup.find(\"table\")\n",
    "   # print(company_table)\n",
    "    paragraphs = company_table.find_all(\"p\")\n",
    "    for p in paragraphs: \n",
    "        text=p.get_text('\\n')\n",
    "        print(text)\n",
    "    break\n"
   ]
  },
  {
   "cell_type": "code",
   "execution_count": null,
   "metadata": {},
   "outputs": [],
   "source": []
  },
  {
   "cell_type": "code",
   "execution_count": null,
   "metadata": {},
   "outputs": [],
   "source": []
  }
 ],
 "metadata": {
  "kernelspec": {
   "display_name": "Python 3",
   "language": "python",
   "name": "python3"
  },
  "language_info": {
   "codemirror_mode": {
    "name": "ipython",
    "version": 3
   },
   "file_extension": ".py",
   "mimetype": "text/x-python",
   "name": "python",
   "nbconvert_exporter": "python",
   "pygments_lexer": "ipython3",
   "version": "3.7.7"
  }
 },
 "nbformat": 4,
 "nbformat_minor": 4
}
