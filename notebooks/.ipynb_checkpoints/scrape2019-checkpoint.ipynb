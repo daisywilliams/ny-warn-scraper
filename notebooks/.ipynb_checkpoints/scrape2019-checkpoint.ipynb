{
 "cells": [
  {
   "cell_type": "code",
   "execution_count": null,
   "metadata": {},
   "outputs": [],
   "source": [
    "# use the import keyword to import pandas, requests, and bs4 modules\n",
    "import pandas as pd\n",
    "import requests\n",
    "from bs4 import BeautifulSoup"
   ]
  },
  {
   "cell_type": "code",
   "execution_count": 325,
   "metadata": {},
   "outputs": [
    {
     "data": {
      "text/plain": [
       "'https://labor.ny.gov/app/warn/default.asp?warnYr=2019'"
      ]
     },
     "execution_count": 325,
     "metadata": {},
     "output_type": "execute_result"
    }
   ],
   "source": [
    "# assign the NY WARN notice url to a variable\n",
    "url = \"https://labor.ny.gov/app/warn/default.asp?warnYr=2019\"\n",
    "url"
   ]
  },
  {
   "cell_type": "code",
   "execution_count": 326,
   "metadata": {},
   "outputs": [
    {
     "data": {
      "text/plain": [
       "{'accept-encoding': 'deflate'}"
      ]
     },
     "execution_count": 326,
     "metadata": {},
     "output_type": "execute_result"
    }
   ],
   "source": [
    "# define headers\n",
    "headers = {'accept-encoding': 'deflate'}\n",
    "headers"
   ]
  },
  {
   "cell_type": "code",
   "execution_count": 327,
   "metadata": {},
   "outputs": [
    {
     "data": {
      "text/plain": [
       "<Response [200]>"
      ]
     },
     "execution_count": 327,
     "metadata": {},
     "output_type": "execute_result"
    }
   ],
   "source": [
    "# make a get request to the url using the requests library and assign the response to a variable called 'response'\n",
    "response = requests.get(url, headers=headers)\n",
    "response"
   ]
  },
  {
   "cell_type": "code",
   "execution_count": 328,
   "metadata": {},
   "outputs": [
    {
     "data": {
      "text/plain": [
       "200"
      ]
     },
     "execution_count": 328,
     "metadata": {},
     "output_type": "execute_result"
    }
   ],
   "source": [
    "# print out status code of response to confirm that your request worked\n",
    "response.status_code"
   ]
  },
  {
   "cell_type": "code",
   "execution_count": 329,
   "metadata": {},
   "outputs": [],
   "source": [
    "soup = BeautifulSoup (response.text, 'html.parser')"
   ]
  },
  {
   "cell_type": "code",
   "execution_count": 330,
   "metadata": {},
   "outputs": [],
   "source": [
    "table = soup.find(\"table\")\n"
   ]
  },
  {
   "cell_type": "code",
   "execution_count": 331,
   "metadata": {},
   "outputs": [],
   "source": [
    "rows =soup.find_all(\"tr\")"
   ]
  },
  {
   "cell_type": "code",
   "execution_count": 332,
   "metadata": {},
   "outputs": [
    {
     "data": {
      "text/plain": [
       "346"
      ]
     },
     "execution_count": 332,
     "metadata": {},
     "output_type": "execute_result"
    }
   ],
   "source": [
    "len(rows)"
   ]
  },
  {
   "cell_type": "code",
   "execution_count": 333,
   "metadata": {},
   "outputs": [],
   "source": [
    "# indicate the url start of the individual case URLs as they aren't the same as the launching page\n",
    "newurl = \"https://labor.ny.gov/app/warn/\"\n"
   ]
  },
  {
   "cell_type": "code",
   "execution_count": null,
   "metadata": {},
   "outputs": [],
   "source": [
    "results = []\n",
    "for row in rows:\n",
    "    #print(row)\n",
    "    a = row.find(\"a\")['href']\n",
    "    #print(a)\n",
    "    company_url = f'{newurl}{a}'\n",
    "    #print(company_url)\n",
    "    company_response = requests.get(company_url, headers=headers)\n",
    "   # print (company_response.status_code)\n",
    "    company_soup = BeautifulSoup(company_response.text, 'html.parser') \n",
    "   # print(company_soup)\n",
    "    company_table = company_soup.find(\"table\")\n",
    "    # print(company_table)\n",
    "    paragraphs = company_table.find_all(\"p\")\n",
    "    for p in paragraphs: \n",
    "        text=p.get_text('\\n')\n",
    "        #print(text)\n",
    "        if ('Date of Notice:' in text):\n",
    "            notice_date = text.split(\":\")[1].strip().split('\\n')[0].split()[0].replace(',', '').replace(';', '')\n",
    "            # print(notice_date)\n",
    "        elif ('Reason Stated for Filing:' in text):\n",
    "            reason = text.split(\":\")[1].strip()\n",
    "            # print(reason)\n",
    "        elif ('Company:' in text):\n",
    "            split_company = text.split('\\n')\n",
    "            company = split_company[1].strip()\n",
    "            address = \" \".join(split_company[2:])\n",
    "            #print(company)\n",
    "            #print(address)\n",
    "        elif ('Phone:' in text):\n",
    "            phone = text.split(\":\")[1].strip()\n",
    "            #print(phone)\n",
    "        elif ('Business Type:' in text):\n",
    "            business_type = text.split(\":\")[1].strip()\n",
    "            #print(business_type)\n",
    "        elif ('Number Affected:' in text):\n",
    "            affected = text.split(\":\")[1].strip().split()[0].replace(',', '')\n",
    "            #print(affected)\n",
    "        elif ('Total Employees:' in text):\n",
    "            total_employees = text.split(\":\")[1].strip().split()[0].replace(',', '')\n",
    "            #print(total_employees)\n",
    "        elif ('Layoff Date:' in text):\n",
    "            layoff_date = text.split(\":\")[1].strip()\n",
    "            #print(layoff_date)\n",
    "        elif ('Reason for Dislocation:' in text):\n",
    "            dislocation = text.split(\":\")[1].strip()\n",
    "            #print(dislocation)\n",
    "        elif ('Union:' in text):\n",
    "            union = text.split(\":\")[1].strip()\n",
    "            #print(union)\n",
    "        elif ('Classification:' in text):\n",
    "            classification = text.split(\":\")[1].strip()\n",
    "            #print(classification)\n",
    "    result = {\n",
    "        'notice_date': notice_date,\n",
    "        'reason': reason,\n",
    "        'company': company,\n",
    "        'address': address,\n",
    "        'phone': phone,\n",
    "        'business_type': business_type,\n",
    "        'affected': affected,\n",
    "        'total_employees': total_employees,\n",
    "        'layoff_date': layoff_date,\n",
    "        'dislocation': dislocation,\n",
    "        'union': union,\n",
    "        'classification': classification\n",
    "     }\n",
    "    results.append(result) \n",
    "        \n"
   ]
  },
  {
   "cell_type": "code",
   "execution_count": null,
   "metadata": {},
   "outputs": [],
   "source": []
  }
 ],
 "metadata": {
  "kernelspec": {
   "display_name": "Python 3",
   "language": "python",
   "name": "python3"
  },
  "language_info": {
   "codemirror_mode": {
    "name": "ipython",
    "version": 3
   },
   "file_extension": ".py",
   "mimetype": "text/x-python",
   "name": "python",
   "nbconvert_exporter": "python",
   "pygments_lexer": "ipython3",
   "version": "3.7.7"
  }
 },
 "nbformat": 4,
 "nbformat_minor": 4
}
