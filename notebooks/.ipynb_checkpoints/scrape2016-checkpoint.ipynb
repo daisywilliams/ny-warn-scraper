{
 "cells": [
  {
   "cell_type": "code",
   "execution_count": 37,
   "metadata": {},
   "outputs": [],
   "source": [
    "import pandas as pd\n",
    "import requests\n",
    "from bs4 import BeautifulSoup\n"
   ]
  },
  {
   "cell_type": "code",
   "execution_count": 38,
   "metadata": {},
   "outputs": [
    {
     "data": {
      "text/plain": [
       "'https://labor.ny.gov/app/warn/default.asp?warnYr=2016'"
      ]
     },
     "execution_count": 38,
     "metadata": {},
     "output_type": "execute_result"
    }
   ],
   "source": [
    "url = \"https://labor.ny.gov/app/warn/default.asp?warnYr=2016\"\n",
    "url"
   ]
  },
  {
   "cell_type": "code",
   "execution_count": 39,
   "metadata": {},
   "outputs": [
    {
     "data": {
      "text/plain": [
       "{'accept-encoding': 'deflate'}"
      ]
     },
     "execution_count": 39,
     "metadata": {},
     "output_type": "execute_result"
    }
   ],
   "source": [
    "headers = {'accept-encoding': 'deflate'}\n",
    "headers"
   ]
  },
  {
   "cell_type": "code",
   "execution_count": 40,
   "metadata": {},
   "outputs": [
    {
     "data": {
      "text/plain": [
       "<Response [200]>"
      ]
     },
     "execution_count": 40,
     "metadata": {},
     "output_type": "execute_result"
    }
   ],
   "source": [
    "response = requests.get(url, headers=headers)\n",
    "response"
   ]
  },
  {
   "cell_type": "code",
   "execution_count": 41,
   "metadata": {},
   "outputs": [
    {
     "data": {
      "text/plain": [
       "200"
      ]
     },
     "execution_count": 41,
     "metadata": {},
     "output_type": "execute_result"
    }
   ],
   "source": [
    "response.status_code"
   ]
  },
  {
   "cell_type": "code",
   "execution_count": 42,
   "metadata": {},
   "outputs": [
    {
     "data": {
      "text/plain": [
       "str"
      ]
     },
     "execution_count": 42,
     "metadata": {},
     "output_type": "execute_result"
    }
   ],
   "source": [
    "type(response.text)"
   ]
  },
  {
   "cell_type": "code",
   "execution_count": 43,
   "metadata": {},
   "outputs": [],
   "source": [
    "soup = BeautifulSoup (response.text, 'html.parser')"
   ]
  },
  {
   "cell_type": "code",
   "execution_count": 44,
   "metadata": {},
   "outputs": [],
   "source": [
    "table = soup.find(\"table\")"
   ]
  },
  {
   "cell_type": "code",
   "execution_count": 45,
   "metadata": {},
   "outputs": [],
   "source": [
    "rows =soup.find_all(\"tr\")"
   ]
  },
  {
   "cell_type": "code",
   "execution_count": 46,
   "metadata": {},
   "outputs": [
    {
     "data": {
      "text/plain": [
       "331"
      ]
     },
     "execution_count": 46,
     "metadata": {},
     "output_type": "execute_result"
    }
   ],
   "source": [
    "len(rows)"
   ]
  },
  {
   "cell_type": "code",
   "execution_count": 64,
   "metadata": {},
   "outputs": [],
   "source": [
    "# indicate the url start of the individual case URLs as they aren't the same as the launching page\n",
    "newurl = \"https://labor.ny.gov/app/warn/\""
   ]
  },
  {
   "cell_type": "code",
   "execution_count": 76,
   "metadata": {},
   "outputs": [
    {
     "name": "stdout",
     "output_type": "stream",
     "text": [
      "Date of Notice: 12/21/2016  \n",
      "Amended: 12/30/2016\n",
      "Event Number:  2016-0108\n",
      "Rapid Response Specialist: Stuart Goldberg\n",
      "Reason Stated for Filing: Plant Closing\n",
      "Company:\n",
      " ResCare Workforce Services\n",
      " TANF Support Operations\n",
      " 741 Flushing Ave, 3rd and 4th  Floor\n",
      " Brooklyn, NY  11206\n",
      "County:  Kings | WIB Name:  NEW YORK CITY  | Region:  New York City\n",
      "Contact:  Tabiatha A. Ford, Regional Human Resource Manager\n",
      "Phone:  (610) 574-5428\n",
      "Business Type:  Social  services assistance for the State through the facilitation of the TANF program.\n",
      "Number Affected:  \n",
      "28\n",
      "Total Employees:  \n",
      "40\n",
      " (total employees at the two locations)\n",
      "Layoff Date:  3/31/2017\n",
      "Closing Date:  3/31/2017\n",
      "Reason for Dislocation:  Loss of contractual agreement\n",
      "ERNUM:  -----                                     \n",
      "Union:  The affected  workers are not represented by a Union.\n",
      "Classification:  Plant Closing\n",
      "Other affected ResCare  Workforce Services site:\n",
      " 2016-0109:  6535 Queens Blvd, Woodside, NY 11377  (12 affected workers)\n"
     ]
    }
   ],
   "source": [
    "results = []\n",
    "for row in rows:\n",
    "    #print(row)\n",
    "    a = row.find(\"a\")['href']\n",
    "    #print(a)\n",
    "    company_url = f'{newurl}{a}'\n",
    "    #print(company_url)\n",
    "    company_response = requests.get(company_url, headers=headers)\n",
    "   # print (company_response.status_code)\n",
    "    company_soup = BeautifulSoup(company_response.text, 'html.parser') \n",
    "   # print(company_soup)\n",
    "    company_table = company_soup.find(\"table\")\n",
    "    #print(company_table)\n",
    "    paragraphs = company_table.find_all(\"p\")\n",
    "    for p in paragraphs: \n",
    "        text=p.get_text('\\n')\n",
    "        print(text)\n",
    "    break"
   ]
  },
  {
   "cell_type": "code",
   "execution_count": null,
   "metadata": {},
   "outputs": [],
   "source": []
  }
 ],
 "metadata": {
  "kernelspec": {
   "display_name": "Python 3",
   "language": "python",
   "name": "python3"
  },
  "language_info": {
   "codemirror_mode": {
    "name": "ipython",
    "version": 3
   },
   "file_extension": ".py",
   "mimetype": "text/x-python",
   "name": "python",
   "nbconvert_exporter": "python",
   "pygments_lexer": "ipython3",
   "version": "3.7.7"
  }
 },
 "nbformat": 4,
 "nbformat_minor": 4
}
